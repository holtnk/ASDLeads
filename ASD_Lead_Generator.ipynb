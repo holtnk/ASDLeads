{
  "nbformat": 4,
  "nbformat_minor": 0,
  "metadata": {
    "colab": {
      "provenance": [],
      "include_colab_link": true
    },
    "kernelspec": {
      "name": "python3",
      "display_name": "Python 3"
    },
    "language_info": {
      "name": "python"
    }
  },
  "cells": [
    {
      "cell_type": "markdown",
      "metadata": {
        "id": "view-in-github",
        "colab_type": "text"
      },
      "source": [
        "<a href=\"https://colab.research.google.com/github/holtnk/ASDLeads/blob/main/ASD_Lead_Generator.ipynb\" target=\"_parent\"><img src=\"https://colab.research.google.com/assets/colab-badge.svg\" alt=\"Open In Colab\"/></a>"
      ]
    },
    {
      "cell_type": "markdown",
      "source": [
        "To Run:\n",
        "\n",
        "Windows: Ctrl + F9\n",
        "\n",
        "Mac: Command + F9\n",
        "\n",
        "Enter your zip code when prompted"
      ],
      "metadata": {
        "id": "79Lql9OgCuD5"
      }
    },
    {
      "cell_type": "code",
      "source": [
        "pip install requests\n"
      ],
      "metadata": {
        "colab": {
          "base_uri": "https://localhost:8080/"
        },
        "id": "tOg9E-Q5asTV",
        "outputId": "2a6437ae-3be6-4868-d411-84da9fbcc03b"
      },
      "execution_count": 1,
      "outputs": [
        {
          "output_type": "stream",
          "name": "stdout",
          "text": [
            "Requirement already satisfied: requests in /usr/local/lib/python3.10/dist-packages (2.31.0)\n",
            "Requirement already satisfied: charset-normalizer<4,>=2 in /usr/local/lib/python3.10/dist-packages (from requests) (3.3.2)\n",
            "Requirement already satisfied: idna<4,>=2.5 in /usr/local/lib/python3.10/dist-packages (from requests) (3.7)\n",
            "Requirement already satisfied: urllib3<3,>=1.21.1 in /usr/local/lib/python3.10/dist-packages (from requests) (2.0.7)\n",
            "Requirement already satisfied: certifi>=2017.4.17 in /usr/local/lib/python3.10/dist-packages (from requests) (2024.6.2)\n"
          ]
        }
      ]
    },
    {
      "cell_type": "code",
      "source": [
        "pip install geopy\n"
      ],
      "metadata": {
        "colab": {
          "base_uri": "https://localhost:8080/"
        },
        "id": "KIVUJmHVas7N",
        "outputId": "e0097de2-d063-453c-d50c-3f1610dc7283"
      },
      "execution_count": 2,
      "outputs": [
        {
          "output_type": "stream",
          "name": "stdout",
          "text": [
            "Requirement already satisfied: geopy in /usr/local/lib/python3.10/dist-packages (2.3.0)\n",
            "Requirement already satisfied: geographiclib<3,>=1.52 in /usr/local/lib/python3.10/dist-packages (from geopy) (2.0)\n"
          ]
        }
      ]
    },
    {
      "cell_type": "code",
      "source": [
        "pip install pandas"
      ],
      "metadata": {
        "colab": {
          "base_uri": "https://localhost:8080/"
        },
        "id": "gdehB1rnavlJ",
        "outputId": "403dbf49-06fa-493a-df1a-23308971271c"
      },
      "execution_count": 3,
      "outputs": [
        {
          "output_type": "stream",
          "name": "stdout",
          "text": [
            "Requirement already satisfied: pandas in /usr/local/lib/python3.10/dist-packages (2.0.3)\n",
            "Requirement already satisfied: python-dateutil>=2.8.2 in /usr/local/lib/python3.10/dist-packages (from pandas) (2.8.2)\n",
            "Requirement already satisfied: pytz>=2020.1 in /usr/local/lib/python3.10/dist-packages (from pandas) (2023.4)\n",
            "Requirement already satisfied: tzdata>=2022.1 in /usr/local/lib/python3.10/dist-packages (from pandas) (2024.1)\n",
            "Requirement already satisfied: numpy>=1.21.0 in /usr/local/lib/python3.10/dist-packages (from pandas) (1.25.2)\n",
            "Requirement already satisfied: six>=1.5 in /usr/local/lib/python3.10/dist-packages (from python-dateutil>=2.8.2->pandas) (1.16.0)\n"
          ]
        }
      ]
    },
    {
      "cell_type": "code",
      "source": [
        "import requests\n",
        "import csv\n",
        "from geopy.geocoders import Nominatim\n",
        "\n",
        "##TODO: Convert to csv file that users can upload/edit and have program search through and use for filtering (bfore adding to csv)\n",
        "NPI_LIST = ['103G00000X', '103T00000X', '103TB0200X', '103TC0700X', '103TC2200X', '103TF0000X', '103TH0004X',\n",
        "            '103TH0100X', '103TM1800X', '103TP0016X', '103TP0814X', '103TS0200X', '163WP0807X', '2084B0040X',\n",
        "            '2084D0003X', '2084N0402X', '2084P0800X', '2084P0804X', '261QM0855X', '282NC2000X', '364SP0807X',\n",
        "            '364SP0810X']\n",
        "\n",
        "RADIUS = 100\n",
        "\n",
        "def collect_leads(zip_code):\n",
        "    providers = search_providers_by_zip(zip_code)\n",
        "    if providers:\n",
        "        leads = []\n",
        "        for provider in providers:\n",
        "            ##if provider['number'] in NPI_LIST:\n",
        "            lead = {\n",
        "                'Contact Name': provider.get('basic', {}).get('name'),\n",
        "                'NPI': provider.get('number'),\n",
        "                'Address': provider.get('addresses', [{}])[0].get('address_1'),\n",
        "                'City': provider.get('addresses', [{}])[0].get('city'),\n",
        "                'State': provider.get('addresses', [{}])[0].get('state'),\n",
        "                'Zip': provider.get('addresses', [{}])[0].get('postal_code'),\n",
        "                'Phone': provider.get('addresses', [{}])[0].get('telephone_number'),\n",
        "                'Taxonomy Codes': ', '.join([taxonomy.get('code') for taxonomy in provider.get('taxonomies', [])])\n",
        "            }\n",
        "            print(lead) ##TEMP\n",
        "            leads.append(lead)\n",
        "\n",
        "        # Write leads to CSV\n",
        "        with open('Leads.csv', 'w', newline='', encoding='utf-8') as csvfile:\n",
        "            fieldnames = ['Contact Name', 'NPI', 'Address', 'City', 'State', 'Zip', 'Phone', 'Taxonomy Codes']\n",
        "            writer = csv.DictWriter(csvfile, fieldnames=fieldnames)\n",
        "            writer.writeheader()\n",
        "            writer.writerows(leads)\n",
        "        print(f\"Sales leads saved to Leads.csv\")\n",
        "    else:\n",
        "        print(\"No providers found or error in fetching data.\")\n",
        "\n",
        "def search_providers_by_zip(zip_code):\n",
        "    base_url = 'https://npiregistry.cms.hhs.gov/api/'\n",
        "    url = f'{base_url}?postal_code={zip_code}&limit=200&radius={RADIUS}&version=2.1'\n",
        "    response = requests.get(url)\n",
        "\n",
        "    if response.status_code == 200:\n",
        "        data = response.json()\n",
        "        results = data.get('results', [])\n",
        "\n",
        "        return results\n",
        "    else:\n",
        "        print(f'Error fetching data. Status code: {response.status_code}')\n",
        "        return None\n",
        "\n",
        "if __name__ == \"__main__\":\n",
        "    zip_code = input(\"Enter your zip code: \")\n",
        "    print(f\"Searching for providers within {RADIUS} miles of {zip_code}\")\n",
        "\n",
        "    collect_leads(zip_code)"
      ],
      "metadata": {
        "colab": {
          "base_uri": "https://localhost:8080/"
        },
        "id": "YLwO65Dq-jzo",
        "outputId": "812aea7b-a2aa-4630-d850-429ec8e393a0"
      },
      "execution_count": 14,
      "outputs": [
        {
          "output_type": "stream",
          "name": "stdout",
          "text": [
            "Enter your zip code: 98144\n",
            "Searching for providers within 100 miles of 98144\n",
            "{'Contact Name': None, 'NPI': '1124890215', 'Address': '1410 S COLUMBIAN WAY APT 107', 'City': 'SEATTLE', 'State': 'WA', 'Zip': '981447326', 'Phone': '206-472-4302', 'Taxonomy Codes': '171M00000X'}\n",
            "{'Contact Name': None, 'NPI': '1306563739', 'Address': '1200 12TH AVE S STE 901', 'City': 'SEATTLE', 'State': 'WA', 'Zip': '981442712', 'Phone': '206-548-3114', 'Taxonomy Codes': '363LF0000X'}\n",
            "{'Contact Name': None, 'NPI': '1013525633', 'Address': '5923 39TH AVE S', 'City': 'SEATTLE', 'State': 'WA', 'Zip': '981182616', 'Phone': '206-468-6406', 'Taxonomy Codes': '163W00000X'}\n",
            "{'Contact Name': None, 'NPI': '1295340586', 'Address': '2345 RAINIER AVE S', 'City': 'SEATTLE', 'State': 'WA', 'Zip': '981445348', 'Phone': '206-325-5725', 'Taxonomy Codes': '183500000X'}\n",
            "{'Contact Name': None, 'NPI': '1669070520', 'Address': '3401 RAINIER AVE S', 'City': 'SEATTLE', 'State': 'WA', 'Zip': '981446954', 'Phone': None, 'Taxonomy Codes': '101Y00000X'}\n",
            "{'Contact Name': None, 'NPI': '1477167344', 'Address': '1600 S LANE ST', 'City': 'SEATTLE', 'State': 'WA', 'Zip': '981442810', 'Phone': '206-682-2371', 'Taxonomy Codes': '101Y00000X'}\n",
            "{'Contact Name': None, 'NPI': '1952871139', 'Address': '1600 S LANE ST', 'City': 'SEATTLE', 'State': 'WA', 'Zip': '981442810', 'Phone': '206-682-2371', 'Taxonomy Codes': '101YA0400X, 101Y00000X'}\n",
            "{'Contact Name': None, 'NPI': '1740751197', 'Address': '901 RAINIER AVE S', 'City': 'SEATTLE', 'State': 'WA', 'Zip': '981442839', 'Phone': '206-470-3883', 'Taxonomy Codes': '163WS0200X'}\n",
            "{'Contact Name': None, 'NPI': '1528846417', 'Address': '2100 24TH AVE S STE 260', 'City': 'SEATTLE', 'State': 'WA', 'Zip': '981444644', 'Phone': None, 'Taxonomy Codes': '101Y00000X'}\n",
            "{'Contact Name': None, 'NPI': '1942435482', 'Address': '1916 23RD AVE S STE B', 'City': 'SEATTLE', 'State': 'WA', 'Zip': '981444616', 'Phone': '206-362-3344', 'Taxonomy Codes': '111N00000X, 172M00000X, 225700000X, 261Q00000X'}\n",
            "{'Contact Name': None, 'NPI': '1457715419', 'Address': 'PO BOX 3835', 'City': 'SEATTLE', 'State': 'WA', 'Zip': '981243835', 'Phone': None, 'Taxonomy Codes': '124Q00000X'}\n",
            "{'Contact Name': None, 'NPI': '1417371733', 'Address': '3629 S D ST', 'City': 'TACOMA', 'State': 'WA', 'Zip': '984186813', 'Phone': '253-649-1403', 'Taxonomy Codes': '101YA0400X'}\n",
            "{'Contact Name': None, 'NPI': '1376010363', 'Address': '2020B S MAIN ST', 'City': 'SEATTLE', 'State': 'WA', 'Zip': '981442211', 'Phone': '126-731-2946', 'Taxonomy Codes': '101YM0800X'}\n",
            "{'Contact Name': None, 'NPI': '1134671860', 'Address': '401 5TH AVE STE 400', 'City': 'SEATTLE', 'State': 'WA', 'Zip': '981042377', 'Phone': '206-263-9000', 'Taxonomy Codes': '104100000X, 390200000X, 101YM0800X'}\n",
            "{'Contact Name': None, 'NPI': '1629541289', 'Address': '1600 S LANE ST', 'City': 'SEATTLE', 'State': 'WA', 'Zip': '981442810', 'Phone': '206-682-2371', 'Taxonomy Codes': '175T00000X'}\n",
            "{'Contact Name': None, 'NPI': '1376827543', 'Address': '1200 12TH AVE S STE 401', 'City': 'SEATTLE', 'State': 'WA', 'Zip': '981442730', 'Phone': '206-548-5850', 'Taxonomy Codes': '1223G0001X, 1223G0001X'}\n",
            "{'Contact Name': None, 'NPI': '1235836651', 'Address': '2329 RAINIER AVE S', 'City': 'SEATTLE', 'State': 'WA', 'Zip': '981445302', 'Phone': '206-552-1879', 'Taxonomy Codes': '104100000X'}\n",
            "{'Contact Name': None, 'NPI': '1356051809', 'Address': '1600 S LANE ST', 'City': 'SEATTLE', 'State': 'WA', 'Zip': '981442810', 'Phone': '206-682-2371', 'Taxonomy Codes': '1041C0700X, 101Y00000X'}\n",
            "{'Contact Name': None, 'NPI': '1033717947', 'Address': '325 W GOWE ST', 'City': 'KENT', 'State': 'WA', 'Zip': '980325892', 'Phone': '253-833-7444', 'Taxonomy Codes': '163W00000X'}\n",
            "{'Contact Name': None, 'NPI': '1699515486', 'Address': '2100 24TH AVE S', 'City': 'SEATTLE', 'State': 'WA', 'Zip': '981444637', 'Phone': None, 'Taxonomy Codes': '175T00000X'}\n",
            "{'Contact Name': None, 'NPI': '1629634845', 'Address': '1600 S LANE ST', 'City': 'SEATTLE', 'State': 'WA', 'Zip': '981442810', 'Phone': '206-682-2371', 'Taxonomy Codes': '101YM0800X'}\n",
            "{'Contact Name': None, 'NPI': '1467073650', 'Address': '100 N HOWARD ST STE W', 'City': 'SPOKANE', 'State': 'WA', 'Zip': '992010508', 'Phone': '206-557-9878', 'Taxonomy Codes': '101YA0400X, 101YM0800X, 101YP2500X, 101YP2500X'}\n",
            "{'Contact Name': None, 'NPI': '1285819433', 'Address': '702 MARTIN LUTHER KING JR WAY S', 'City': 'SEATTLE', 'State': 'WA', 'Zip': '981443112', 'Phone': '206-778-4735', 'Taxonomy Codes': '101YM0800X'}\n",
            "{'Contact Name': None, 'NPI': '1972184406', 'Address': '2120 S PLUM ST STE A', 'City': 'SEATTLE', 'State': 'WA', 'Zip': '981444539', 'Phone': '206-441-3043', 'Taxonomy Codes': '101Y00000X'}\n",
            "{'Contact Name': None, 'NPI': '1063942191', 'Address': '12307 85TH AVE S', 'City': 'SEATTLE', 'State': 'WA', 'Zip': '981784513', 'Phone': None, 'Taxonomy Codes': '1041C0700X'}\n",
            "{'Contact Name': None, 'NPI': '1255958062', 'Address': '1312 14TH AVE S APT 7', 'City': 'SEATTLE', 'State': 'WA', 'Zip': '981443430', 'Phone': '360-988-1449', 'Taxonomy Codes': '101Y00000X'}\n",
            "{'Contact Name': None, 'NPI': '1972087104', 'Address': '3639 MARTIN LUTHER KING JR WAY S', 'City': 'SEATTLE', 'State': 'WA', 'Zip': '981446847', 'Phone': '206-695-7600', 'Taxonomy Codes': '101YA0400X'}\n",
            "{'Contact Name': None, 'NPI': '1932679222', 'Address': '1600 S LANE ST', 'City': 'SEATTLE', 'State': 'WA', 'Zip': '981442810', 'Phone': '206-682-2371', 'Taxonomy Codes': '101YM0800X'}\n",
            "{'Contact Name': None, 'NPI': '1568918944', 'Address': '3326 18TH AVE S', 'City': 'SEATTLE', 'State': 'WA', 'Zip': '981446439', 'Phone': None, 'Taxonomy Codes': '133V00000X'}\n",
            "{'Contact Name': None, 'NPI': '1760249957', 'Address': '325 W GOWE ST', 'City': 'KENT', 'State': 'WA', 'Zip': '980325892', 'Phone': '253-833-7444', 'Taxonomy Codes': '101Y00000X'}\n",
            "{'Contact Name': None, 'NPI': '1003231069', 'Address': '4301 230TH PL SW', 'City': 'MOUNTLAKE TERRACE', 'State': 'WA', 'Zip': '980435016', 'Phone': '404-694-9747', 'Taxonomy Codes': '111N00000X, 111N00000X'}\n",
            "{'Contact Name': None, 'NPI': '1740806280', 'Address': '2103 S ATLANTIC ST', 'City': 'SEATTLE', 'State': 'WA', 'Zip': '981443615', 'Phone': '206-454-3952', 'Taxonomy Codes': '390200000X'}\n",
            "{'Contact Name': None, 'NPI': '1124503313', 'Address': '306 23RD AVE S STE 200', 'City': 'SEATTLE', 'State': 'WA', 'Zip': '981442371', 'Phone': '206-518-9058', 'Taxonomy Codes': '207Q00000X, 363L00000X, 363LF0000X, 363LF0000X'}\n",
            "{'Contact Name': None, 'NPI': '1780662908', 'Address': '306 23RD AVE S STE 200', 'City': 'SEATTLE', 'State': 'WA', 'Zip': '981442371', 'Phone': '206-518-9058', 'Taxonomy Codes': '207Q00000X'}\n",
            "{'Contact Name': None, 'NPI': '1164071676', 'Address': '325 W GOWE ST', 'City': 'KENT', 'State': 'WA', 'Zip': '980325892', 'Phone': '253-833-7444', 'Taxonomy Codes': '101Y00000X'}\n",
            "{'Contact Name': None, 'NPI': '1518425461', 'Address': '108 27TH AVE S', 'City': 'SEATTLE', 'State': 'WA', 'Zip': '981442406', 'Phone': '973-420-3201', 'Taxonomy Codes': '390200000X, 101Y00000X'}\n",
            "{'Contact Name': None, 'NPI': '1245648005', 'Address': '3756 RAINIER AVE S', 'City': 'SEATTLE', 'State': 'WA', 'Zip': '981446989', 'Phone': '206-725-2225', 'Taxonomy Codes': '225700000X'}\n",
            "{'Contact Name': None, 'NPI': '1831762012', 'Address': '1800 S JACKSON ST APT 230', 'City': 'SEATTLE', 'State': 'WA', 'Zip': '981442182', 'Phone': None, 'Taxonomy Codes': '101Y00000X'}\n",
            "{'Contact Name': None, 'NPI': '1851063119', 'Address': '325 W GOWE ST', 'City': 'KENT', 'State': 'WA', 'Zip': '980325892', 'Phone': '253-833-7444', 'Taxonomy Codes': '101Y00000X'}\n",
            "{'Contact Name': None, 'NPI': '1881291839', 'Address': '1901 MARTIN LUTHER KING JR WAY S', 'City': 'SEATTLE', 'State': 'WA', 'Zip': '981444801', 'Phone': '206-322-7676', 'Taxonomy Codes': '101YA0400X'}\n",
            "{'Contact Name': None, 'NPI': '1912634569', 'Address': '611 12TH AVE S', 'City': 'SEATTLE', 'State': 'WA', 'Zip': '981442007', 'Phone': '206-324-9360', 'Taxonomy Codes': '133V00000X'}\n",
            "{'Contact Name': None, 'NPI': '1285368126', 'Address': '9245 RAINIER AVE S', 'City': 'SEATTLE', 'State': 'WA', 'Zip': '981185569', 'Phone': '206-722-8444', 'Taxonomy Codes': '390200000X, 122300000X'}\n",
            "{'Contact Name': None, 'NPI': '1598455701', 'Address': '2100 24TH AVE S', 'City': 'SEATTLE', 'State': 'WA', 'Zip': '981444637', 'Phone': None, 'Taxonomy Codes': '172V00000X'}\n",
            "{'Contact Name': None, 'NPI': '1538703475', 'Address': '325 W GOWE ST', 'City': 'KENT', 'State': 'WA', 'Zip': '980325892', 'Phone': '253-833-7444', 'Taxonomy Codes': '164W00000X'}\n",
            "{'Contact Name': None, 'NPI': '1437897642', 'Address': '2100 24TH AVE S', 'City': 'SEATTLE', 'State': 'WA', 'Zip': '981444637', 'Phone': None, 'Taxonomy Codes': '101Y00000X'}\n",
            "{'Contact Name': None, 'NPI': '1891475737', 'Address': '325 W GOWE ST', 'City': 'KENT', 'State': 'WA', 'Zip': '980325892', 'Phone': '253-833-7444', 'Taxonomy Codes': '163W00000X'}\n",
            "{'Contact Name': None, 'NPI': '1457191462', 'Address': '325 W GOWE ST', 'City': 'KENT', 'State': 'WA', 'Zip': '980325892', 'Phone': '253-833-7444', 'Taxonomy Codes': '164W00000X'}\n",
            "{'Contact Name': None, 'NPI': '1245694207', 'Address': 'PO BOX 3835', 'City': 'SEATTLE', 'State': 'WA', 'Zip': '981243835', 'Phone': None, 'Taxonomy Codes': '124Q00000X'}\n",
            "{'Contact Name': None, 'NPI': '1932345717', 'Address': '1200 12TH AVE S STE 901', 'City': 'SEATTLE', 'State': 'WA', 'Zip': '981442712', 'Phone': '206-548-3114', 'Taxonomy Codes': '1041C0700X'}\n",
            "{'Contact Name': None, 'NPI': '1760189153', 'Address': '325 W GOWE ST', 'City': 'KENT', 'State': 'WA', 'Zip': '980325892', 'Phone': '253-833-7444', 'Taxonomy Codes': '101Y00000X'}\n",
            "{'Contact Name': None, 'NPI': '1891262689', 'Address': '2600 S WALKER ST', 'City': 'SEATTLE', 'State': 'WA', 'Zip': '981444710', 'Phone': '206-556-0875', 'Taxonomy Codes': '106H00000X'}\n",
            "{'Contact Name': None, 'NPI': '1154319796', 'Address': '1200 12TH AVE S', 'City': 'SEATTLE', 'State': 'WA', 'Zip': '981442712', 'Phone': '206-326-2400', 'Taxonomy Codes': '207R00000X'}\n",
            "{'Contact Name': None, 'NPI': '1164065843', 'Address': '3642 33RD AVE S STE C1', 'City': 'SEATTLE', 'State': 'WA', 'Zip': '981446951', 'Phone': '206-725-2225', 'Taxonomy Codes': '111N00000X'}\n",
            "{'Contact Name': None, 'NPI': '1326723065', 'Address': '2103 S ATLANTIC ST', 'City': 'SEATTLE', 'State': 'WA', 'Zip': '981443615', 'Phone': None, 'Taxonomy Codes': '390200000X'}\n",
            "{'Contact Name': None, 'NPI': '1154422301', 'Address': '1600 S COLUMBIAN WAY', 'City': 'SEATTLE', 'State': 'WA', 'Zip': '981081565', 'Phone': '206-762-2394', 'Taxonomy Codes': '363A00000X'}\n",
            "{'Contact Name': None, 'NPI': '1477125623', 'Address': '2120 S PLUM ST STE A', 'City': 'SEATTLE', 'State': 'WA', 'Zip': '981444539', 'Phone': '206-441-3043', 'Taxonomy Codes': '101YM0800X'}\n",
            "{'Contact Name': None, 'NPI': '1265952014', 'Address': '3639 MARTIN LUTHER KING JR WAY S', 'City': 'SEATTLE', 'State': 'WA', 'Zip': '981446847', 'Phone': '206-695-5960', 'Taxonomy Codes': '104100000X'}\n",
            "{'Contact Name': None, 'NPI': '1922731314', 'Address': '2100 24TH AVE S', 'City': 'SEATTLE', 'State': 'WA', 'Zip': '981444637', 'Phone': '206-382-5340', 'Taxonomy Codes': '101Y00000X'}\n",
            "{'Contact Name': None, 'NPI': '1245093970', 'Address': '1911 22ND AVE S UNIT 318', 'City': 'SEATTLE', 'State': 'WA', 'Zip': '981444504', 'Phone': '206-203-5055', 'Taxonomy Codes': '208D00000X'}\n",
            "{'Contact Name': None, 'NPI': '1053168708', 'Address': '3020 S UNION AVE', 'City': 'TACOMA', 'State': 'WA', 'Zip': '984093317', 'Phone': '253-844-4327', 'Taxonomy Codes': '207QA0505X'}\n",
            "{'Contact Name': None, 'NPI': '1184401432', 'Address': '851 POPLAR PL S', 'City': 'SEATTLE', 'State': 'WA', 'Zip': '981442827', 'Phone': '206-322-8631', 'Taxonomy Codes': '101Y00000X'}\n",
            "{'Contact Name': None, 'NPI': '1134757776', 'Address': '325 W GOWE ST', 'City': 'KENT', 'State': 'WA', 'Zip': '980325892', 'Phone': '253-833-7444', 'Taxonomy Codes': '164W00000X'}\n",
            "{'Contact Name': None, 'NPI': '1962018192', 'Address': '1357 31ST AVE S', 'City': 'SEATTLE', 'State': 'WA', 'Zip': '981443946', 'Phone': None, 'Taxonomy Codes': '390200000X'}\n",
            "{'Contact Name': None, 'NPI': '1699550566', 'Address': '2401 S JACKSON ST APT 6058', 'City': 'SEATTLE', 'State': 'WA', 'Zip': '981442547', 'Phone': '970-231-1610', 'Taxonomy Codes': '367500000X'}\n",
            "{'Contact Name': None, 'NPI': '1710755061', 'Address': '2212 S JACKSON ST', 'City': 'SEATTLE', 'State': 'WA', 'Zip': '981442591', 'Phone': '206-322-2387', 'Taxonomy Codes': '163W00000X'}\n",
            "{'Contact Name': None, 'NPI': '1699205922', 'Address': '3639 MARTIN LUTHER KING JR S.', 'City': 'SEATTLE', 'State': 'WA', 'Zip': '98144', 'Phone': '206-695-7503', 'Taxonomy Codes': '101Y00000X'}\n",
            "{'Contact Name': None, 'NPI': '1417512617', 'Address': '1323 BOREN AVE APT 513', 'City': 'SEATTLE', 'State': 'WA', 'Zip': '981013714', 'Phone': None, 'Taxonomy Codes': '101Y00000X, 101Y00000X'}\n",
            "{'Contact Name': None, 'NPI': '1225507981', 'Address': '1600 S LANE ST', 'City': 'SEATTLE', 'State': 'WA', 'Zip': '981442810', 'Phone': '206-682-2371', 'Taxonomy Codes': '175T00000X'}\n",
            "{'Contact Name': None, 'NPI': '1811299050', 'Address': '12040 28TH AVE NE', 'City': 'SEATTLE', 'State': 'WA', 'Zip': '981255356', 'Phone': '206-364-4831', 'Taxonomy Codes': '225X00000X'}\n",
            "{'Contact Name': None, 'NPI': '1013789858', 'Address': '2100 24TH AVE S STE 260', 'City': 'SEATTLE', 'State': 'WA', 'Zip': '981444644', 'Phone': None, 'Taxonomy Codes': '175T00000X'}\n",
            "{'Contact Name': None, 'NPI': '1396976239', 'Address': '2215 N 30TH ST STE 301', 'City': 'TACOMA', 'State': 'WA', 'Zip': '984033350', 'Phone': '253-238-1402', 'Taxonomy Codes': '1223P0221X'}\n",
            "{'Contact Name': None, 'NPI': '1669856993', 'Address': '10521 MERIDIAN AVE N', 'City': 'SEATTLE', 'State': 'WA', 'Zip': '981339509', 'Phone': '206-296-4990', 'Taxonomy Codes': '122300000X'}\n",
            "{'Contact Name': None, 'NPI': '1205351871', 'Address': '3255 WING ST', 'City': 'SAN DIEGO', 'State': 'CA', 'Zip': '921104638', 'Phone': '619-990-3651', 'Taxonomy Codes': '101YM0800X'}\n",
            "{'Contact Name': None, 'NPI': '1972962611', 'Address': '1200 12TH AVE S', 'City': 'SEATTLE', 'State': 'WA', 'Zip': '981442712', 'Phone': '206-548-3114', 'Taxonomy Codes': '103T00000X'}\n",
            "{'Contact Name': None, 'NPI': '1629330378', 'Address': '1901 MARTIN LUTHER KING JR WAY S', 'City': 'SEATTLE', 'State': 'WA', 'Zip': '981444801', 'Phone': '206-322-7676', 'Taxonomy Codes': '101Y00000X'}\n",
            "{'Contact Name': None, 'NPI': '1477273696', 'Address': '2100 24TH AVE S', 'City': 'SEATTLE', 'State': 'WA', 'Zip': '981444637', 'Phone': None, 'Taxonomy Codes': '101Y00000X'}\n",
            "{'Contact Name': None, 'NPI': '1598539538', 'Address': '1600 S LANE ST', 'City': 'SEATTLE', 'State': 'WA', 'Zip': '981442810', 'Phone': '206-682-2371', 'Taxonomy Codes': '101Y00000X, 175T00000X'}\n",
            "{'Contact Name': None, 'NPI': '1427776897', 'Address': '1200 12TH AVE S STE 901', 'City': 'SEATTLE', 'State': 'WA', 'Zip': '981442712', 'Phone': '206-548-3114', 'Taxonomy Codes': '390200000X, 363A00000X'}\n",
            "{'Contact Name': None, 'NPI': '1154807436', 'Address': '7479 E 29TH PL', 'City': 'DENVER', 'State': 'CO', 'Zip': '80238', 'Phone': '303-732-6046', 'Taxonomy Codes': '1223G0001X'}\n",
            "{'Contact Name': None, 'NPI': '1205699717', 'Address': '400 LAKESIDE AVE S APT 319', 'City': 'SEATTLE', 'State': 'WA', 'Zip': '981442631', 'Phone': '925-789-0379', 'Taxonomy Codes': '163W00000X'}\n",
            "{'Contact Name': None, 'NPI': '1679044374', 'Address': '1600 S LANE ST', 'City': 'SEATTLE', 'State': 'WA', 'Zip': '981442810', 'Phone': '206-682-2371', 'Taxonomy Codes': '171M00000X'}\n",
            "{'Contact Name': None, 'NPI': '1174174056', 'Address': '2120 S PLUM ST', 'City': 'SEATTLE', 'State': 'WA', 'Zip': '981444539', 'Phone': '206-441-3043', 'Taxonomy Codes': '101Y00000X'}\n",
            "{'Contact Name': None, 'NPI': '1801210257', 'Address': '1210 SW 136TH ST', 'City': 'BURIEN', 'State': 'WA', 'Zip': '981661214', 'Phone': '206-257-6621', 'Taxonomy Codes': '101YA0400X'}\n",
            "{'Contact Name': None, 'NPI': '1659144319', 'Address': '3521 S LESCHI PL APT 1', 'City': 'SEATTLE', 'State': 'WA', 'Zip': '981442638', 'Phone': '936-446-7661', 'Taxonomy Codes': '175F00000X'}\n",
            "{'Contact Name': None, 'NPI': '1083989339', 'Address': '4100 E MISSISSIPPI AVE STE 110', 'City': 'GLENDALE', 'State': 'CO', 'Zip': '802463051', 'Phone': '303-552-9522', 'Taxonomy Codes': '207R00000X, 207R00000X, 207R00000X, 207R00000X, 207R00000X, 207R00000X, 390200000X, 207R00000X'}\n",
            "{'Contact Name': None, 'NPI': '1932444122', 'Address': '2401 S IRVING ST', 'City': 'SEATTLE', 'State': 'WA', 'Zip': '981443727', 'Phone': '206-252-2779', 'Taxonomy Codes': '225100000X'}\n",
            "{'Contact Name': None, 'NPI': '1861970832', 'Address': '3639 MARTIN LUTHER KING JR WAY S', 'City': 'SEATTLE', 'State': 'WA', 'Zip': '981446847', 'Phone': '206-805-8940', 'Taxonomy Codes': '104100000X, 101YA0400X'}\n",
            "{'Contact Name': None, 'NPI': '1124561865', 'Address': '4556 15TH AVE S', 'City': 'SEATTLE', 'State': 'WA', 'Zip': '981081818', 'Phone': '206-265-2935', 'Taxonomy Codes': '171M00000X, 1041C0700X'}\n",
            "{'Contact Name': None, 'NPI': '1215713201', 'Address': '1600 S LANE ST', 'City': 'SEATTLE', 'State': 'WA', 'Zip': '981442810', 'Phone': '206-682-2371', 'Taxonomy Codes': '163W00000X'}\n",
            "{'Contact Name': None, 'NPI': '1871166348', 'Address': '611 12TH AVE S', 'City': 'SEATTLE', 'State': 'WA', 'Zip': '981442007', 'Phone': '206-307-7559', 'Taxonomy Codes': '104100000X, 1041C0700X'}\n",
            "{'Contact Name': None, 'NPI': '1710140207', 'Address': '1200 12TH AVE S', 'City': 'SEATTLE', 'State': 'WA', 'Zip': '981442712', 'Phone': '206-621-4045', 'Taxonomy Codes': '2084P0800X'}\n",
            "{'Contact Name': None, 'NPI': '1265157937', 'Address': '2100 24TH AVE S', 'City': 'SEATTLE', 'State': 'WA', 'Zip': '981444637', 'Phone': None, 'Taxonomy Codes': '101Y00000X'}\n",
            "{'Contact Name': None, 'NPI': '1639959497', 'Address': '1513 32ND AVE S', 'City': 'SEATTLE', 'State': 'WA', 'Zip': '981443917', 'Phone': '541-429-3122', 'Taxonomy Codes': '101YM0800X, 101YM0800X'}\n",
            "{'Contact Name': None, 'NPI': '1073295192', 'Address': '100 23RD AVE S', 'City': 'SEATTLE', 'State': 'WA', 'Zip': '981442302', 'Phone': '206-573-8702', 'Taxonomy Codes': '101Y00000X'}\n",
            "{'Contact Name': None, 'NPI': '1114699477', 'Address': '1701 18TH AVE S', 'City': 'SEATTLE', 'State': 'WA', 'Zip': '981444317', 'Phone': '253-833-7444', 'Taxonomy Codes': '101Y00000X'}\n",
            "{'Contact Name': None, 'NPI': '1053028886', 'Address': '2200 RAINIER AVE S # 201', 'City': 'SEATTLE', 'State': 'WA', 'Zip': '981444642', 'Phone': '206-280-2439', 'Taxonomy Codes': '101Y00000X, 175T00000X, 171M00000X'}\n",
            "{'Contact Name': None, 'NPI': '1316244999', 'Address': '3639 MARTIN LUTHER KING JR WAY S', 'City': 'SEATTLE', 'State': 'WA', 'Zip': '981446847', 'Phone': '206-695-7600', 'Taxonomy Codes': '302R00000X'}\n",
            "{'Contact Name': None, 'NPI': '1962507442', 'Address': '3639 MARTIN LUTHER KING JR. WAY SOUTH', 'City': 'SEATTLE', 'State': 'WA', 'Zip': '981446847', 'Phone': '206-695-7600', 'Taxonomy Codes': '101YA0400X, 101YM0800X, 1041C0700X, 106H00000X, 261QM0850X, 261QM0855X, 261QR0405X, 363LP0808X, 261QM0801X'}\n",
            "{'Contact Name': None, 'NPI': '1124256086', 'Address': '3639 MARTIN LUTHER KING JR WAY S', 'City': 'SEATTLE', 'State': 'WA', 'Zip': '981446847', 'Phone': '206-774-2445', 'Taxonomy Codes': '251S00000X'}\n",
            "{'Contact Name': None, 'NPI': '1306219365', 'Address': '550 17TH AVE STE 680', 'City': 'SEATTLE', 'State': 'WA', 'Zip': '981225795', 'Phone': '206-215-4545', 'Taxonomy Codes': '363L00000X'}\n",
            "{'Contact Name': None, 'NPI': '1447551221', 'Address': '2103 S ATLANTIC ST', 'City': 'SEATTLE', 'State': 'WA', 'Zip': '981443615', 'Phone': '206-329-2050', 'Taxonomy Codes': '261QM0855X, 251S00000X'}\n",
            "{'Contact Name': None, 'NPI': '1578065389', 'Address': '1901 MARTIN LUTHER KING JR WAY S', 'City': 'SEATTLE', 'State': 'WA', 'Zip': '981444801', 'Phone': '206-322-7676', 'Taxonomy Codes': '101YM0800X'}\n",
            "{'Contact Name': None, 'NPI': '1578101416', 'Address': '3208 35TH AVE S', 'City': 'SEATTLE', 'State': 'WA', 'Zip': '981447002', 'Phone': '510-832-7493', 'Taxonomy Codes': '225700000X'}\n",
            "{'Contact Name': None, 'NPI': '1932678687', 'Address': '4155 39TH AVE S', 'City': 'SEATTLE', 'State': 'WA', 'Zip': '981181319', 'Phone': '626-884-4578', 'Taxonomy Codes': '1041C0700X'}\n",
            "{'Contact Name': None, 'NPI': '1124782545', 'Address': '2100 24TH AVE S', 'City': 'SEATTLE', 'State': 'WA', 'Zip': '981444637', 'Phone': None, 'Taxonomy Codes': '101Y00000X'}\n",
            "{'Contact Name': None, 'NPI': '1588298798', 'Address': '3639 MARTIN LUTHER KING JR WAY S', 'City': 'SEATTLE', 'State': 'WA', 'Zip': '981446847', 'Phone': None, 'Taxonomy Codes': '101Y00000X'}\n",
            "{'Contact Name': None, 'NPI': '1588926653', 'Address': '1901 MLK JR WAY S', 'City': 'SEATTLE', 'State': 'WA', 'Zip': '981444801', 'Phone': '206-322-7676', 'Taxonomy Codes': '101YA0400X'}\n",
            "{'Contact Name': None, 'NPI': '1538893904', 'Address': '325 W GOWE ST', 'City': 'KENT', 'State': 'WA', 'Zip': '980325892', 'Phone': '253-833-7444', 'Taxonomy Codes': '101Y00000X'}\n",
            "{'Contact Name': None, 'NPI': '1982927034', 'Address': '1527 12TH AVE S APT 308', 'City': 'SEATTLE', 'State': 'WA', 'Zip': '981447413', 'Phone': '503-901-3799', 'Taxonomy Codes': '225700000X, 224Z00000X'}\n",
            "{'Contact Name': None, 'NPI': '1407035801', 'Address': '1422 31ST AVE S', 'City': 'SEATTLE', 'State': 'WA', 'Zip': '981443910', 'Phone': None, 'Taxonomy Codes': '225700000X'}\n",
            "{'Contact Name': None, 'NPI': '1801588512', 'Address': '325 W GOWE ST', 'City': 'KENT', 'State': 'WA', 'Zip': '980325892', 'Phone': '253-833-7444', 'Taxonomy Codes': '101Y00000X'}\n",
            "{'Contact Name': None, 'NPI': '1174849855', 'Address': '510A RAINIER AVE S', 'City': 'SEATTLE', 'State': 'WA', 'Zip': '981442039', 'Phone': '206-686-1266', 'Taxonomy Codes': '207RX0202X'}\n",
            "{'Contact Name': None, 'NPI': '1003804055', 'Address': '1200 12TH AVE S', 'City': 'SEATTLE', 'State': 'WA', 'Zip': '981442712', 'Phone': '205-326-2400', 'Taxonomy Codes': '363LP2300X'}\n",
            "{'Contact Name': None, 'NPI': '1780946848', 'Address': '1901 MLK JR WAY S', 'City': 'SEATTLE', 'State': 'WA', 'Zip': '981444801', 'Phone': '206-322-7676', 'Taxonomy Codes': '101Y00000X'}\n",
            "{'Contact Name': None, 'NPI': '1750748380', 'Address': '1200 12TH AVE S', 'City': 'SEATTLE', 'State': 'WA', 'Zip': '981442712', 'Phone': '206-548-3114', 'Taxonomy Codes': '124Q00000X'}\n",
            "{'Contact Name': None, 'NPI': '1770140998', 'Address': '1701 18TH AVE S', 'City': 'SEATTLE', 'State': 'WA', 'Zip': '981444317', 'Phone': '253-833-7444', 'Taxonomy Codes': '101YA0400X'}\n",
            "{'Contact Name': None, 'NPI': '1932777000', 'Address': '1911 22ND AVE S', 'City': 'SEATTLE', 'State': 'WA', 'Zip': '981444519', 'Phone': '206-203-5055', 'Taxonomy Codes': '101YM0800X'}\n",
            "{'Contact Name': None, 'NPI': '1417229261', 'Address': '655 156TH AVE SE STE 255', 'City': 'BELLEVUE', 'State': 'WA', 'Zip': '980075018', 'Phone': '206-695-7511', 'Taxonomy Codes': '101YM0800X'}\n",
            "{'Contact Name': None, 'NPI': '1639649676', 'Address': '2120 S PLUM ST STE A', 'City': 'SEATTLE', 'State': 'WA', 'Zip': '981444539', 'Phone': '206-441-3043', 'Taxonomy Codes': '171M00000X, 101YA0400X'}\n",
            "{'Contact Name': None, 'NPI': '1649340639', 'Address': '6020 35TH AVE SW', 'City': 'SEATTLE', 'State': 'WA', 'Zip': '981263002', 'Phone': '206-461-6950', 'Taxonomy Codes': '1223G0001X'}\n",
            "{'Contact Name': None, 'NPI': '1013207703', 'Address': '611 12TH AVE S', 'City': 'SEATTLE', 'State': 'WA', 'Zip': '981441910', 'Phone': '206-324-9360', 'Taxonomy Codes': '101YM0800X'}\n",
            "{'Contact Name': None, 'NPI': '1457527046', 'Address': '2326 RAINIER AVE S', 'City': 'SEATTLE', 'State': 'WA', 'Zip': '98144', 'Phone': '206-329-3040', 'Taxonomy Codes': '111N00000X'}\n",
            "{'Contact Name': None, 'NPI': '1417625476', 'Address': '1643 NW 136TH AVE.', 'City': 'SUNRISE', 'State': 'FL', 'Zip': '33323', 'Phone': '785-224-6780', 'Taxonomy Codes': '390200000X, 363AM0700X'}\n",
            "{'Contact Name': None, 'NPI': '1174098834', 'Address': '3514 WOODLAWN AVE N', 'City': 'SEATTLE', 'State': 'WA', 'Zip': '981039046', 'Phone': '206-399-7343', 'Taxonomy Codes': '104100000X'}\n",
            "{'Contact Name': None, 'NPI': '1083168306', 'Address': '5625 12TH AVE NE', 'City': 'SEATTLE', 'State': 'WA', 'Zip': '981052603', 'Phone': '615-430-1010', 'Taxonomy Codes': '390200000X'}\n",
            "{'Contact Name': None, 'NPI': '1184096562', 'Address': '3301 S HORTON ST', 'City': 'SEATTLE', 'State': 'WA', 'Zip': '981446917', 'Phone': '206-252-7407', 'Taxonomy Codes': '163WS0200X'}\n",
            "{'Contact Name': None, 'NPI': '1255861886', 'Address': '2100 24TH AVE S STE 260', 'City': 'SEATTLE', 'State': 'WA', 'Zip': '981444644', 'Phone': None, 'Taxonomy Codes': '101YM0800X, 101YM0800X'}\n",
            "{'Contact Name': None, 'NPI': '1952098873', 'Address': '1618 S LANE ST', 'City': 'SEATTLE', 'State': 'WA', 'Zip': '981442829', 'Phone': '206-464-1570', 'Taxonomy Codes': '175T00000X'}\n",
            "{'Contact Name': None, 'NPI': '1750656062', 'Address': '14235 6TH AVE SW', 'City': 'BURIEN', 'State': 'WA', 'Zip': '981661517', 'Phone': '206-310-0993', 'Taxonomy Codes': '106H00000X'}\n",
            "{'Contact Name': None, 'NPI': '1073105516', 'Address': '100 23RD AVE S', 'City': 'SEATTLE', 'State': 'WA', 'Zip': '981442302', 'Phone': '206-328-5696', 'Taxonomy Codes': '101Y00000X'}\n",
            "{'Contact Name': None, 'NPI': '1790760684', 'Address': '1407 BROADWAY', 'City': 'SEATTLE', 'State': 'WA', 'Zip': '981223854', 'Phone': '206-726-3495', 'Taxonomy Codes': '183700000X'}\n",
            "{'Contact Name': None, 'NPI': '1457462707', 'Address': '903 LAKESIDE AVE S', 'City': 'SEATTLE', 'State': 'WA', 'Zip': '981443319', 'Phone': '206-334-5441', 'Taxonomy Codes': '104100000X'}\n",
            "{'Contact Name': None, 'NPI': '1114654225', 'Address': '505 WASHINGTON AVE S', 'City': 'KENT', 'State': 'WA', 'Zip': '980325709', 'Phone': '253-833-7444', 'Taxonomy Codes': '163WC1500X, 363LP0808X'}\n",
            "{'Contact Name': None, 'NPI': '1750456570', 'Address': '3051 BEACON AVE SO', 'City': 'SEATTLE', 'State': 'WA', 'Zip': '98144', 'Phone': '206-329-0500', 'Taxonomy Codes': '1223G0001X'}\n",
            "{'Contact Name': None, 'NPI': '1699306498', 'Address': '1600 S LANE ST', 'City': 'SEATTLE', 'State': 'WA', 'Zip': '981442810', 'Phone': '206-628-2371', 'Taxonomy Codes': '171M00000X'}\n",
            "{'Contact Name': None, 'NPI': '1710645676', 'Address': '2100 24TH AVE S STE 260', 'City': 'SEATTLE', 'State': 'WA', 'Zip': '981444644', 'Phone': None, 'Taxonomy Codes': '101Y00000X'}\n",
            "{'Contact Name': None, 'NPI': '1902582398', 'Address': '2120 S PLUM ST', 'City': 'SEATTLE', 'State': 'WA', 'Zip': '981444539', 'Phone': '206-441-3043', 'Taxonomy Codes': '101Y00000X'}\n",
            "{'Contact Name': None, 'NPI': '1609229962', 'Address': '21822 NE 1ST ST', 'City': 'SAMMAMISH', 'State': 'WA', 'Zip': '980743702', 'Phone': '425-786-8670', 'Taxonomy Codes': '101YM0800X'}\n",
            "{'Contact Name': None, 'NPI': '1255051082', 'Address': '7211 30TH AVE NW', 'City': 'SEATTLE', 'State': 'WA', 'Zip': '981176244', 'Phone': '206-948-4228', 'Taxonomy Codes': '101Y00000X'}\n",
            "{'Contact Name': None, 'NPI': '1699243519', 'Address': '724 N 78TH ST', 'City': 'SEATTLE', 'State': 'WA', 'Zip': '981034731', 'Phone': '719-651-1240', 'Taxonomy Codes': '101YM0800X'}\n",
            "{'Contact Name': None, 'NPI': '1669788352', 'Address': '2301 S JACKSON ST', 'City': 'SEATTLE', 'State': 'WA', 'Zip': '981442357', 'Phone': None, 'Taxonomy Codes': '376K00000X'}\n",
            "{'Contact Name': None, 'NPI': '1902648389', 'Address': '515 3RD AVE', 'City': 'SEATTLE', 'State': 'WA', 'Zip': '981042304', 'Phone': None, 'Taxonomy Codes': '171M00000X'}\n",
            "{'Contact Name': None, 'NPI': '1538917299', 'Address': '325 W GOWE ST', 'City': 'KENT', 'State': 'WA', 'Zip': '980325892', 'Phone': '253-833-7444', 'Taxonomy Codes': '101Y00000X'}\n",
            "{'Contact Name': None, 'NPI': '1336874254', 'Address': '1116 SUMMIT AVE', 'City': 'SEATTLE', 'State': 'WA', 'Zip': '981012831', 'Phone': '206-726-4100', 'Taxonomy Codes': '101Y00000X, 101YA0400X'}\n",
            "{'Contact Name': None, 'NPI': '1487184461', 'Address': '3121 S 216TH ST APT 3', 'City': 'DES MOINES', 'State': 'WA', 'Zip': '981986003', 'Phone': '206-565-4118', 'Taxonomy Codes': '101YM0800X'}\n",
            "{'Contact Name': None, 'NPI': '1215405162', 'Address': '3401 RAINIER AVE S', 'City': 'SEATTLE', 'State': 'WA', 'Zip': '98144', 'Phone': '206-446-8815', 'Taxonomy Codes': '101Y00000X'}\n",
            "{'Contact Name': None, 'NPI': '1093231623', 'Address': '2511 S GRAND ST', 'City': 'SEATTLE', 'State': 'WA', 'Zip': '981444729', 'Phone': None, 'Taxonomy Codes': '103K00000X'}\n",
            "{'Contact Name': None, 'NPI': '1144894296', 'Address': '843 HIAWATHA PL S APT 206', 'City': 'SEATTLE', 'State': 'WA', 'Zip': '981442845', 'Phone': '206-972-0326', 'Taxonomy Codes': '171R00000X'}\n",
            "{'Contact Name': None, 'NPI': '1437478070', 'Address': '1200 12TH AVE S STE 901', 'City': 'SEATTLE', 'State': 'WA', 'Zip': '981442712', 'Phone': '206-548-3114', 'Taxonomy Codes': '207Q00000X'}\n",
            "{'Contact Name': None, 'NPI': '1699012989', 'Address': '23805 HIGHWAY 99', 'City': 'EDMONDS', 'State': 'WA', 'Zip': '980269204', 'Phone': '425-778-6333', 'Taxonomy Codes': '1223G0001X'}\n",
            "{'Contact Name': None, 'NPI': '1306369467', 'Address': '2200 RAINIER AVE S STE 201', 'City': 'SEATTLE', 'State': 'WA', 'Zip': '981444642', 'Phone': '206-447-9904', 'Taxonomy Codes': '101Y00000X, 106H00000X'}\n",
            "{'Contact Name': None, 'NPI': '1528604733', 'Address': '1600 S LANE ST', 'City': 'SEATTLE', 'State': 'WA', 'Zip': '981442810', 'Phone': '206-682-2371', 'Taxonomy Codes': '101YM0800X, 101Y00000X'}\n",
            "{'Contact Name': None, 'NPI': '1447522560', 'Address': '2103 S ATLANTIC ST', 'City': 'SEATTLE', 'State': 'WA', 'Zip': '981443615', 'Phone': '206-329-2050', 'Taxonomy Codes': '101Y00000X'}\n",
            "{'Contact Name': None, 'NPI': '1942813761', 'Address': '1200 12TH AVE S STE 901', 'City': 'SEATTLE', 'State': 'WA', 'Zip': '981442712', 'Phone': '206-548-3114', 'Taxonomy Codes': '367A00000X'}\n",
            "{'Contact Name': None, 'NPI': '1447785076', 'Address': '17806 32ND AVE S APT 16', 'City': 'SEATAC', 'State': 'WA', 'Zip': '981884226', 'Phone': '248-238-5519', 'Taxonomy Codes': '224Z00000X'}\n",
            "{'Contact Name': None, 'NPI': '1609462159', 'Address': '1600 S LANE ST', 'City': 'SEATTLE', 'State': 'WA', 'Zip': '981442810', 'Phone': None, 'Taxonomy Codes': '171M00000X'}\n",
            "{'Contact Name': None, 'NPI': '1598208167', 'Address': '3642 33RD AVE S', 'City': 'SEATTLE', 'State': 'WA', 'Zip': '981446911', 'Phone': '206-349-3693', 'Taxonomy Codes': '176B00000X'}\n",
            "{'Contact Name': None, 'NPI': '1639394299', 'Address': '3051 BEACON AVE S', 'City': 'SEATTLE', 'State': 'WA', 'Zip': '981445853', 'Phone': '206-329-0500', 'Taxonomy Codes': '1223G0001X'}\n",
            "{'Contact Name': None, 'NPI': '1659637445', 'Address': '1901 MLK JR WAY S', 'City': 'SEATTLE', 'State': 'WA', 'Zip': '981444801', 'Phone': '206-322-7676', 'Taxonomy Codes': '101YA0400X'}\n",
            "{'Contact Name': None, 'NPI': '1801916853', 'Address': '1129 29TH AVE S', 'City': 'SEATTLE', 'State': 'WA', 'Zip': '981443117', 'Phone': '206-850-4387', 'Taxonomy Codes': '225700000X'}\n",
            "{'Contact Name': None, 'NPI': '1083336481', 'Address': '2100 24TH AVE S', 'City': 'SEATTLE', 'State': 'WA', 'Zip': '981444637', 'Phone': None, 'Taxonomy Codes': '101Y00000X'}\n",
            "{'Contact Name': None, 'NPI': '1366191223', 'Address': '1600 S LANE ST', 'City': 'SEATTLE', 'State': 'WA', 'Zip': '981442810', 'Phone': '206-682-2371', 'Taxonomy Codes': '171M00000X, 171M00000X, 106S00000X'}\n",
            "{'Contact Name': None, 'NPI': '1407513914', 'Address': '1600 S LANE ST', 'City': 'SEATTLE', 'State': 'WA', 'Zip': '981442810', 'Phone': '206-682-2371', 'Taxonomy Codes': '171M00000X'}\n",
            "{'Contact Name': None, 'NPI': '1467924530', 'Address': '1600 S LANE ST', 'City': 'SEATTLE', 'State': 'WA', 'Zip': '981442810', 'Phone': '206-682-2371', 'Taxonomy Codes': '175T00000X'}\n",
            "{'Contact Name': None, 'NPI': '1952870131', 'Address': '1600 S LANE ST', 'City': 'SEATTLE', 'State': 'WA', 'Zip': '98144', 'Phone': '206-909-8311', 'Taxonomy Codes': '175T00000X'}\n",
            "{'Contact Name': None, 'NPI': '1366113607', 'Address': '2200 RAINIER AVE S STE 201', 'City': 'SEATTLE', 'State': 'WA', 'Zip': '981444642', 'Phone': None, 'Taxonomy Codes': '101Y00000X, 172V00000X'}\n",
            "{'Contact Name': None, 'NPI': '1629361761', 'Address': '3235 37TH PL S', 'City': 'SEATTLE', 'State': 'WA', 'Zip': '981447017', 'Phone': None, 'Taxonomy Codes': '207P00000X'}\n",
            "{'Contact Name': None, 'NPI': '1063500627', 'Address': 'PO BOX 11009', 'City': 'OLYMPIA', 'State': 'WA', 'Zip': '985081009', 'Phone': '360-352-2037', 'Taxonomy Codes': '225100000X'}\n",
            "{'Contact Name': None, 'NPI': '1770545345', 'Address': '1959 NE PACIFIC ST', 'City': 'SEATTLE', 'State': 'WA', 'Zip': '981950001', 'Phone': '206-598-4260', 'Taxonomy Codes': '163W00000X, 367500000X'}\n",
            "{'Contact Name': None, 'NPI': '1316651896', 'Address': '123 2ND AVE S', 'City': 'EDMONDS', 'State': 'WA', 'Zip': '980208457', 'Phone': '425-678-6139', 'Taxonomy Codes': '101YM0800X'}\n",
            "{'Contact Name': None, 'NPI': '1467910679', 'Address': '2100 24TH AVE S STE 260', 'City': 'SEATTLE', 'State': 'WA', 'Zip': '981444644', 'Phone': '206-382-5340', 'Taxonomy Codes': '101Y00000X'}\n",
            "{'Contact Name': None, 'NPI': '1356853998', 'Address': '5010 N HIGHLAND ST', 'City': 'RUSTON', 'State': 'WA', 'Zip': '984073118', 'Phone': '206-229-5336', 'Taxonomy Codes': '101YP2500X, 101YM0800X'}\n",
            "{'Contact Name': None, 'NPI': '1578174041', 'Address': '2200 RAINIER AVE S STE 201', 'City': 'SEATTLE', 'State': 'WA', 'Zip': '981444642', 'Phone': '206-417-9904', 'Taxonomy Codes': '101Y00000X, 101YA0400X'}\n",
            "{'Contact Name': None, 'NPI': '1700577491', 'Address': '2100 24TH AVE S', 'City': 'SEATTLE', 'State': 'WA', 'Zip': '981444637', 'Phone': None, 'Taxonomy Codes': '172V00000X'}\n",
            "{'Contact Name': None, 'NPI': '1568425841', 'Address': '801 S STEVENS ST', 'City': 'SPOKANE', 'State': 'WA', 'Zip': '992042654', 'Phone': '509-747-4455', 'Taxonomy Codes': '2085R0202X'}\n",
            "{'Contact Name': None, 'NPI': '1316496144', 'Address': '1200 12TH AVE S', 'City': 'SEATTLE', 'State': 'WA', 'Zip': '981442712', 'Phone': '206-548-3114', 'Taxonomy Codes': '363LF0000X'}\n",
            "{'Contact Name': None, 'NPI': '1740854116', 'Address': '3701 S HUDSON ST APT 419', 'City': 'SEATTLE', 'State': 'WA', 'Zip': '981182162', 'Phone': None, 'Taxonomy Codes': '1041C0700X'}\n",
            "{'Contact Name': None, 'NPI': '1609548957', 'Address': '325 W GOWE ST', 'City': 'KENT', 'State': 'WA', 'Zip': '980325892', 'Phone': '253-833-7444', 'Taxonomy Codes': '163W00000X'}\n",
            "{'Contact Name': None, 'NPI': '1982173852', 'Address': '2100 24TH AVE S STE 260', 'City': 'SEATTLE', 'State': 'WA', 'Zip': '981444644', 'Phone': '206-382-5340', 'Taxonomy Codes': '101Y00000X'}\n",
            "{'Contact Name': None, 'NPI': '1982363487', 'Address': '2838 30TH AVE S', 'City': 'SEATTLE', 'State': 'WA', 'Zip': '981446102', 'Phone': '814-574-9625', 'Taxonomy Codes': '103TC0700X'}\n",
            "{'Contact Name': None, 'NPI': '1972166726', 'Address': '2100 24TH AVE S STE 260', 'City': 'SEATTLE', 'State': 'WA', 'Zip': '981444644', 'Phone': '206-382-5340', 'Taxonomy Codes': '101Y00000X'}\n",
            "{'Contact Name': None, 'NPI': '1023568474', 'Address': '3639 MARTIN LUTHER KING JR WAY S', 'City': 'SEATTLE', 'State': 'WA', 'Zip': '98144', 'Phone': '206-695-5974', 'Taxonomy Codes': '171M00000X, 390200000X, 1041C0700X'}\n",
            "{'Contact Name': None, 'NPI': '1285878686', 'Address': '1600 E OLIVE ST', 'City': 'SEATTLE', 'State': 'WA', 'Zip': '981222735', 'Phone': '206-302-2200', 'Taxonomy Codes': '101YM0800X'}\n",
            "{'Contact Name': None, 'NPI': '1508026584', 'Address': '4560 SE INTERNATIONAL WAY', 'City': 'MILWAUKIE', 'State': 'OR', 'Zip': '97222', 'Phone': '971-206-5200', 'Taxonomy Codes': '225200000X, 225200000X'}\n",
            "{'Contact Name': None, 'NPI': '1457638835', 'Address': '316 LAKE WASHINGTON BLVD S', 'City': 'SEATTLE', 'State': 'WA', 'Zip': '981442553', 'Phone': '206-402-5871', 'Taxonomy Codes': '207R00000X'}\n",
            "{'Contact Name': None, 'NPI': '1689145674', 'Address': '1600 S LANE ST', 'City': 'SEATTLE', 'State': 'WA', 'Zip': '981442810', 'Phone': '206-682-2371', 'Taxonomy Codes': '101Y00000X'}\n",
            "{'Contact Name': None, 'NPI': '1407323470', 'Address': '851 POPLAR PL S', 'City': 'SEATTLE', 'State': 'WA', 'Zip': '981442827', 'Phone': '206-322-2387', 'Taxonomy Codes': '101YM0800X'}\n",
            "{'Contact Name': None, 'NPI': '1376104737', 'Address': '2100 24TH AVE S STE 260', 'City': 'SEATTLE', 'State': 'WA', 'Zip': '981444644', 'Phone': '206-382-5340', 'Taxonomy Codes': '101Y00000X'}\n",
            "{'Contact Name': None, 'NPI': '1356187561', 'Address': '11200 BEACON AVE S', 'City': 'SEATTLE', 'State': 'WA', 'Zip': '981782859', 'Phone': '206-697-7703', 'Taxonomy Codes': '101Y00000X'}\n",
            "{'Contact Name': None, 'NPI': '1518539584', 'Address': '1600 S LANE ST', 'City': 'SEATTLE', 'State': 'WA', 'Zip': '981442810', 'Phone': '206-682-2371', 'Taxonomy Codes': '163WP0808X'}\n",
            "{'Contact Name': None, 'NPI': '1902022775', 'Address': '1615 S WASHINGTON ST', 'City': 'SEATTLE', 'State': 'WA', 'Zip': '981442120', 'Phone': '206-228-5020', 'Taxonomy Codes': '2084P0800X, 2084P0015X'}\n",
            "{'Contact Name': None, 'NPI': '1710394374', 'Address': 'PO BOX 2429', 'City': 'LONGVIEW', 'State': 'WA', 'Zip': '986328486', 'Phone': '360-353-9494', 'Taxonomy Codes': '101YM0800X'}\n",
            "{'Contact Name': None, 'NPI': '1336773951', 'Address': '611 12TH AVE S', 'City': 'SEATTLE', 'State': 'WA', 'Zip': '981442007', 'Phone': '206-324-9360', 'Taxonomy Codes': '101YA0400X'}\n",
            "{'Contact Name': None, 'NPI': '1912476912', 'Address': '2100 24TH AVE S STE 260', 'City': 'SEATTLE', 'State': 'WA', 'Zip': '981444644', 'Phone': '206-382-5340', 'Taxonomy Codes': '101Y00000X'}\n",
            "{'Contact Name': None, 'NPI': '1447507462', 'Address': '6009 SW TAYLORS FERRY RD', 'City': 'PORTLAND', 'State': 'OR', 'Zip': '972195627', 'Phone': '740-398-6674', 'Taxonomy Codes': '363L00000X, 363L00000X, 363L00000X, 363L00000X'}\n",
            "{'Contact Name': None, 'NPI': '1043783491', 'Address': '1600 S LANE ST', 'City': 'SEATTLE', 'State': 'WA', 'Zip': '981442810', 'Phone': '206-682-2371', 'Taxonomy Codes': '163W00000X'}\n",
            "{'Contact Name': None, 'NPI': '1750858072', 'Address': '901 RAINIER AVE S', 'City': 'SEATTLE', 'State': 'WA', 'Zip': '981442839', 'Phone': None, 'Taxonomy Codes': '163WP0809X'}\n",
            "{'Contact Name': None, 'NPI': '1831810761', 'Address': '909 4TH AVE', 'City': 'SEATTLE', 'State': 'WA', 'Zip': '981041108', 'Phone': None, 'Taxonomy Codes': '175T00000X'}\n",
            "{'Contact Name': None, 'NPI': '1538899935', 'Address': '924 W PERSHING AVE', 'City': 'PHOENIX', 'State': 'AZ', 'Zip': '850291821', 'Phone': '602-885-7585', 'Taxonomy Codes': '1223D0001X'}\n",
            "{'Contact Name': None, 'NPI': '1407356967', 'Address': '113 23RD AVE S', 'City': 'SEATTLE', 'State': 'WA', 'Zip': '981442309', 'Phone': '062-195-9802', 'Taxonomy Codes': '101YA0400X'}\n",
            "Sales leads saved to Leads.csv\n"
          ]
        }
      ]
    },
    {
      "cell_type": "code",
      "source": [
        "from geopy.distance import distance\n",
        "from geopy.geocoders import Nominatim\n",
        "\n",
        "def calculate_distance(zip1, zip2):\n",
        "    geolocator = Nominatim(user_agent=\"zipcode_distance_calculator\")\n",
        "\n",
        "    try:\n",
        "        location1 = geolocator.geocode(f\"{zip1}, USA\")\n",
        "        location2 = geolocator.geocode(f\"{zip2}, USA\")\n",
        "\n",
        "        if not location1:\n",
        "            raise ValueError(f\"Cannot find location for zip code {zip1}\")\n",
        "        if not location2:\n",
        "            raise ValueError(f\"Cannot find location for zip code {zip2}\")\n",
        "\n",
        "        # Extract coordinates from location objects\n",
        "        coords1 = (location1.latitude, location1.longitude)\n",
        "        coords2 = (location2.latitude, location2.longitude)\n",
        "\n",
        "        # Calculate distance between the coordinates\n",
        "        dist = distance(coords1, coords2).miles  # Use .kilometers for kilometers\n",
        "\n",
        "        return dist\n",
        "\n",
        "    except Exception as e:\n",
        "        print(f\"Error: {e}\")\n",
        "        return None\n",
        "\n",
        "print(calculate_distance(\"98021\", \"98144\"))\n"
      ],
      "metadata": {
        "colab": {
          "base_uri": "https://localhost:8080/"
        },
        "id": "3jhFap3fmz4W",
        "outputId": "1d364cda-4b77-4559-cfa0-237c2b125ff1"
      },
      "execution_count": null,
      "outputs": [
        {
          "output_type": "stream",
          "name": "stdout",
          "text": [
            "14.767407180707854\n"
          ]
        }
      ]
    }
  ]
}