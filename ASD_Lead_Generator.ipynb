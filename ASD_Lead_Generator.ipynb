{
  "nbformat": 4,
  "nbformat_minor": 0,
  "metadata": {
    "colab": {
      "provenance": [],
      "include_colab_link": true
    },
    "kernelspec": {
      "name": "python3",
      "display_name": "Python 3"
    },
    "language_info": {
      "name": "python"
    }
  },
  "cells": [
    {
      "cell_type": "markdown",
      "metadata": {
        "id": "view-in-github",
        "colab_type": "text"
      },
      "source": [
        "<a href=\"https://colab.research.google.com/github/holtnk/ASDLeads/blob/main/ASD_Lead_Generator.ipynb\" target=\"_parent\"><img src=\"https://colab.research.google.com/assets/colab-badge.svg\" alt=\"Open In Colab\"/></a>"
      ]
    },
    {
      "cell_type": "markdown",
      "source": [
        "To Run:\n",
        "\n",
        "Windows: Ctrl + F9\n",
        "\n",
        "Mac: Command + Ctrl + F9\n",
        "\n",
        "Note: You may need to also press the fn key if your function row is multipurpose\n",
        "\n",
        "Enter your zip code when prompted"
      ],
      "metadata": {
        "id": "79Lql9OgCuD5"
      }
    },
    {
      "cell_type": "code",
      "source": [
        "pip install requests\n"
      ],
      "metadata": {
        "colab": {
          "base_uri": "https://localhost:8080/"
        },
        "id": "tOg9E-Q5asTV",
        "outputId": "f156069e-9d63-492b-d50f-8a8ef379151c"
      },
      "execution_count": null,
      "outputs": [
        {
          "output_type": "stream",
          "name": "stdout",
          "text": [
            "Requirement already satisfied: requests in /usr/local/lib/python3.10/dist-packages (2.31.0)\n",
            "Requirement already satisfied: charset-normalizer<4,>=2 in /usr/local/lib/python3.10/dist-packages (from requests) (3.3.2)\n",
            "Requirement already satisfied: idna<4,>=2.5 in /usr/local/lib/python3.10/dist-packages (from requests) (3.7)\n",
            "Requirement already satisfied: urllib3<3,>=1.21.1 in /usr/local/lib/python3.10/dist-packages (from requests) (2.0.7)\n",
            "Requirement already satisfied: certifi>=2017.4.17 in /usr/local/lib/python3.10/dist-packages (from requests) (2024.7.4)\n"
          ]
        }
      ]
    },
    {
      "cell_type": "code",
      "source": [
        "pip install geopy\n"
      ],
      "metadata": {
        "colab": {
          "base_uri": "https://localhost:8080/"
        },
        "id": "KIVUJmHVas7N",
        "outputId": "0f876bb5-c3d5-4392-902e-3d395de16b3a"
      },
      "execution_count": null,
      "outputs": [
        {
          "output_type": "stream",
          "name": "stdout",
          "text": [
            "Requirement already satisfied: geopy in /usr/local/lib/python3.10/dist-packages (2.3.0)\n",
            "Requirement already satisfied: geographiclib<3,>=1.52 in /usr/local/lib/python3.10/dist-packages (from geopy) (2.0)\n"
          ]
        }
      ]
    },
    {
      "cell_type": "code",
      "source": [
        "pip install pandas"
      ],
      "metadata": {
        "colab": {
          "base_uri": "https://localhost:8080/"
        },
        "id": "gdehB1rnavlJ",
        "outputId": "6d1df466-485f-425d-c2b8-64ac0c3dd4aa"
      },
      "execution_count": null,
      "outputs": [
        {
          "output_type": "stream",
          "name": "stdout",
          "text": [
            "Requirement already satisfied: pandas in /usr/local/lib/python3.10/dist-packages (2.0.3)\n",
            "Requirement already satisfied: python-dateutil>=2.8.2 in /usr/local/lib/python3.10/dist-packages (from pandas) (2.8.2)\n",
            "Requirement already satisfied: pytz>=2020.1 in /usr/local/lib/python3.10/dist-packages (from pandas) (2023.4)\n",
            "Requirement already satisfied: tzdata>=2022.1 in /usr/local/lib/python3.10/dist-packages (from pandas) (2024.1)\n",
            "Requirement already satisfied: numpy>=1.21.0 in /usr/local/lib/python3.10/dist-packages (from pandas) (1.25.2)\n",
            "Requirement already satisfied: six>=1.5 in /usr/local/lib/python3.10/dist-packages (from python-dateutil>=2.8.2->pandas) (1.16.0)\n"
          ]
        }
      ]
    },
    {
      "cell_type": "code",
      "source": [
        "import requests\n",
        "import csv\n",
        "from geopy.geocoders import Nominatim\n",
        "from geopy.distance import geodesic\n",
        "\n",
        "taxonomy_search_list = [\n",
        "    'Clinical Neuropsychologist',\n",
        "    'Psychologist',\n",
        "    'Cognitive & Behavioral Psychologist',\n",
        "    'Clinical Psychologist',\n",
        "    'Clinical Child & Adolescent Psychologist',\n",
        "    'Family Psychologist',\n",
        "    'Health Psychologist',\n",
        "    'Health Service Psychologist',\n",
        "    'Intellectual & Developmental Disabilities Psychologist',\n",
        "    'Prescribing (Medical) Psychologist',\n",
        "    'Psychoanalysis Psychologist',\n",
        "    'School Psychologist',\n",
        "    'Child & Adolescent Psychiatric/Mental Health Registered Nurse Behavioral Neurology & Neuropsychiatry Physician',\n",
        "    'Diagnostic Neuroimaging (Psychiatry & Neurology) Physician',\n",
        "    'Neurology with Special Qualifications in Child Neurology Physici',\n",
        "    'Psychiatry Physician',\n",
        "    'Child & Adolescent Psychiatry Physician',\n",
        "    'Adolescent and Children Mental Health Clinic/Center',\n",
        "    \"Children's Hospital\",\n",
        "    'Child & Adolescent Psychiatric/Mental Health Clinical Nurse Spe Child & Family Psychiatric/Mental Health Clinical Nurse Specialist'\n",
        "]\n",
        "\n",
        "RADIUS = 100\n",
        "\n",
        "\n",
        "def collect_leads(zip_code):\n",
        "    with open('Leads.csv', 'a', newline='', encoding='utf-8') as csvfile:\n",
        "        fieldnames = ['Contact Name', 'NPI', 'Address', 'City', 'State', 'Zip', 'Phone', 'Taxonomy Codes', 'Taxonomy Description']\n",
        "        writer = csv.DictWriter(csvfile, fieldnames=fieldnames)\n",
        "\n",
        "        # Check if file is empty to decide whether to write header\n",
        "        csvfile.seek(0, 2)  # Go to end of file\n",
        "        if csvfile.tell() == 0:  # Check file size\n",
        "            writer.writeheader()  # Write header only if file is empty\n",
        "\n",
        "        # Initialize a list to store taxonomy_desc values that do not return valid leads\n",
        "        invalid_taxonomies = []\n",
        "\n",
        "        # Load taxonomy descriptions\n",
        "        for taxonomy_desc in taxonomy_search_list:\n",
        "            providers = search_providers_by_zip(zip_code, taxonomy_desc)\n",
        "            if providers:\n",
        "                leads = []\n",
        "                for provider in providers:\n",
        "                    lead = {\n",
        "                        'Contact Name': provider.get('basic', {}).get('name'),\n",
        "                        'NPI': provider.get('number'),\n",
        "                        'Address': provider.get('addresses', [{}])[0].get('address_1'),\n",
        "                        'City': provider.get('addresses', [{}])[0].get('city'),\n",
        "                        'State': provider.get('addresses', [{}])[0].get('state'),\n",
        "                        'Zip': provider.get('addresses', [{}])[0].get('postal_code'),\n",
        "                        'Phone': provider.get('addresses', [{}])[0].get('telephone_number'),\n",
        "                        'Taxonomy Codes': ', '.join([taxonomy.get('code') for taxonomy in provider.get('taxonomies', [])]),\n",
        "                        'Taxonomy Description': ', '.join([taxonomy.get('desc') for taxonomy in provider.get('taxonomies', [])])\n",
        "                    }\n",
        "                    if is_within_radius(zip_code, lead[\"Zip\"]):\n",
        "                        leads.append(lead)\n",
        "\n",
        "                # Write leads to CSV\n",
        "                if leads:\n",
        "                    writer.writerows(leads)\n",
        "                    print(f\"Added leads for {taxonomy_desc}\")\n",
        "                else:\n",
        "                    invalid_taxonomies.append(taxonomy_desc)\n",
        "                    print(f\"No leads found for {taxonomy_desc}\")\n",
        "            else:\n",
        "                invalid_taxonomies.append(taxonomy_desc)\n",
        "                print(f\"No data found for {taxonomy_desc}\")\n",
        "\n",
        "        # Print or further process invalid taxonomy descriptions\n",
        "        if invalid_taxonomies:\n",
        "            print(\"\\nTaxonomy descriptions without valid leads:\")\n",
        "            for desc in invalid_taxonomies:\n",
        "                print(desc)\n",
        "            print(\"\\nPlease check these for proper spelling/classification and try again. Note that word order, abbreviations, and/or capitalizations may play a factor.\")\n",
        "\n",
        "\n",
        "def search_providers_by_zip(zip_code, taxonomy_desc):\n",
        "    base_url = 'https://npiregistry.cms.hhs.gov/api/'\n",
        "    url = f'{base_url}?postal_code={zip_code}&limit=200&taxonomy_description={taxonomy_desc}&version=2.1'\n",
        "    response = requests.get(url)\n",
        "\n",
        "    if response.status_code == 200:\n",
        "        data = response.json()\n",
        "        results = data.get('results', [])\n",
        "        return results\n",
        "    else:\n",
        "        print(f'Error fetching data. Status code: {response.status_code}')\n",
        "        return None\n",
        "\n",
        "\n",
        "def is_within_radius(origin_zip_code, to_zip_code):\n",
        "    geolocator = Nominatim(user_agent=\"zipcode_distance_calculator\")\n",
        "\n",
        "    # Isolate to the first 5 digits of the zip code\n",
        "    origin_zip_code = origin_zip_code[:5]\n",
        "    to_zip_code = to_zip_code[:5]\n",
        "\n",
        "    origin = geolocator.geocode(f\"{origin_zip_code}, USA\")\n",
        "    destination = geolocator.geocode(f\"{to_zip_code}, USA\")\n",
        "\n",
        "    if not origin:\n",
        "        raise ValueError(f\"Cannot find location for zip code {origin_zip_code}\")\n",
        "    if not destination:\n",
        "        raise ValueError(f\"Cannot find location for zip code {to_zip_code}\")\n",
        "\n",
        "    distance = geodesic((origin.latitude, origin.longitude), (destination.latitude, destination.longitude)).miles\n",
        "    return distance <= RADIUS\n",
        "\n",
        "\n",
        "if __name__ == \"__main__\":\n",
        "    zip_code = input(\"Enter your zip code: \")\n",
        "    print(f\"Searching for providers within {RADIUS} miles of {zip_code}\")\n",
        "    collect_leads(zip_code)\n",
        "    print(\"Search completed\")"
      ],
      "metadata": {
        "colab": {
          "base_uri": "https://localhost:8080/"
        },
        "id": "YLwO65Dq-jzo",
        "outputId": "d5161fd6-69f3-4a9c-a28f-28455fad00bc"
      },
      "execution_count": 16,
      "outputs": [
        {
          "output_type": "stream",
          "name": "stdout",
          "text": [
            "Enter your zip code: 98144\n",
            "Searching for providers within 100 miles of 98144\n",
            "Added leads for Clinical Neuropsychologist\n",
            "Added leads for Psychologist\n",
            "No data found for Cognitive & Behavioral Psychologist\n",
            "No data found for Clinical Psychologist\n",
            "Added leads for Clinical Child & Adolescent Psychologist\n",
            "No data found for Family Psychologist\n",
            "No data found for Health Psychologist\n",
            "No data found for Health Service Psychologist\n",
            "Added leads for Intellectual & Developmental Disabilities Psychologist\n",
            "No data found for Prescribing (Medical) Psychologist\n",
            "No data found for Psychoanalysis Psychologist\n",
            "No data found for School Psychologist\n",
            "No data found for Child & Adolescent Psychiatric/Mental Health Registered Nurse Behavioral Neurology & Neuropsychiatry Physician\n",
            "No data found for Diagnostic Neuroimaging (Psychiatry & Neurology) Physician\n",
            "No data found for Neurology with Special Qualifications in Child Neurology Physici\n",
            "No data found for Psychiatry Physician\n",
            "No data found for Child & Adolescent Psychiatry Physician\n",
            "No data found for Adolescent and Children Mental Health Clinic/Center\n",
            "No data found for Children's Hospital\n",
            "No data found for Child & Adolescent Psychiatric/Mental Health Clinical Nurse Spe Child & Family Psychiatric/Mental Health Clinical Nurse Specialist\n",
            "\n",
            "Taxonomy descriptions without valid leads:\n",
            "Cognitive & Behavioral Psychologist\n",
            "Clinical Psychologist\n",
            "Family Psychologist\n",
            "Health Psychologist\n",
            "Health Service Psychologist\n",
            "Prescribing (Medical) Psychologist\n",
            "Psychoanalysis Psychologist\n",
            "School Psychologist\n",
            "Child & Adolescent Psychiatric/Mental Health Registered Nurse Behavioral Neurology & Neuropsychiatry Physician\n",
            "Diagnostic Neuroimaging (Psychiatry & Neurology) Physician\n",
            "Neurology with Special Qualifications in Child Neurology Physici\n",
            "Psychiatry Physician\n",
            "Child & Adolescent Psychiatry Physician\n",
            "Adolescent and Children Mental Health Clinic/Center\n",
            "Children's Hospital\n",
            "Child & Adolescent Psychiatric/Mental Health Clinical Nurse Spe Child & Family Psychiatric/Mental Health Clinical Nurse Specialist\n",
            "\n",
            "Please check these for proper spelling/classification and try again. Note that word order, abbreviations, and/or capitalizations may play a factor.\n",
            "Search completed\n"
          ]
        }
      ]
    }
  ]
}