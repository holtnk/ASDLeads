{
  "nbformat": 4,
  "nbformat_minor": 0,
  "metadata": {
    "colab": {
      "provenance": [],
      "include_colab_link": true
    },
    "kernelspec": {
      "name": "python3",
      "display_name": "Python 3"
    },
    "language_info": {
      "name": "python"
    }
  },
  "cells": [
    {
      "cell_type": "markdown",
      "metadata": {
        "id": "view-in-github",
        "colab_type": "text"
      },
      "source": [
        "<a href=\"https://colab.research.google.com/github/holtnk/ASDLeads/blob/main/ASD_Lead_Generator.ipynb\" target=\"_parent\"><img src=\"https://colab.research.google.com/assets/colab-badge.svg\" alt=\"Open In Colab\"/></a>"
      ]
    },
    {
      "cell_type": "markdown",
      "source": [
        "To Run:\n",
        "\n",
        "Windows: Ctrl + F9\n",
        "\n",
        "Mac: Command + Ctrl + F9\n",
        "\n",
        "Note: You may need to also press the fn key if your function row is multipurpose\n",
        "\n",
        "Enter your zip code when prompted"
      ],
      "metadata": {
        "id": "79Lql9OgCuD5"
      }
    },
    {
      "cell_type": "code",
      "source": [
        "pip install requests\n"
      ],
      "metadata": {
        "colab": {
          "base_uri": "https://localhost:8080/"
        },
        "id": "tOg9E-Q5asTV",
        "outputId": "ce2462f3-e0d3-497f-d767-cc4d3556875e"
      },
      "execution_count": 1,
      "outputs": [
        {
          "output_type": "stream",
          "name": "stdout",
          "text": [
            "Requirement already satisfied: requests in /usr/local/lib/python3.10/dist-packages (2.31.0)\n",
            "Requirement already satisfied: charset-normalizer<4,>=2 in /usr/local/lib/python3.10/dist-packages (from requests) (3.3.2)\n",
            "Requirement already satisfied: idna<4,>=2.5 in /usr/local/lib/python3.10/dist-packages (from requests) (3.7)\n",
            "Requirement already satisfied: urllib3<3,>=1.21.1 in /usr/local/lib/python3.10/dist-packages (from requests) (2.0.7)\n",
            "Requirement already satisfied: certifi>=2017.4.17 in /usr/local/lib/python3.10/dist-packages (from requests) (2024.7.4)\n"
          ]
        }
      ]
    },
    {
      "cell_type": "code",
      "source": [
        "pip install geopy\n"
      ],
      "metadata": {
        "colab": {
          "base_uri": "https://localhost:8080/"
        },
        "id": "KIVUJmHVas7N",
        "outputId": "10fef72e-2ed6-44fe-fba7-5258695701a7"
      },
      "execution_count": 2,
      "outputs": [
        {
          "output_type": "stream",
          "name": "stdout",
          "text": [
            "Requirement already satisfied: geopy in /usr/local/lib/python3.10/dist-packages (2.3.0)\n",
            "Requirement already satisfied: geographiclib<3,>=1.52 in /usr/local/lib/python3.10/dist-packages (from geopy) (2.0)\n"
          ]
        }
      ]
    },
    {
      "cell_type": "code",
      "source": [
        "pip install pandas"
      ],
      "metadata": {
        "colab": {
          "base_uri": "https://localhost:8080/"
        },
        "id": "gdehB1rnavlJ",
        "outputId": "cffd1e0b-b48e-4f6d-c2e3-6ffa92f7bf78"
      },
      "execution_count": 3,
      "outputs": [
        {
          "output_type": "stream",
          "name": "stdout",
          "text": [
            "Requirement already satisfied: pandas in /usr/local/lib/python3.10/dist-packages (2.0.3)\n",
            "Requirement already satisfied: python-dateutil>=2.8.2 in /usr/local/lib/python3.10/dist-packages (from pandas) (2.8.2)\n",
            "Requirement already satisfied: pytz>=2020.1 in /usr/local/lib/python3.10/dist-packages (from pandas) (2023.4)\n",
            "Requirement already satisfied: tzdata>=2022.1 in /usr/local/lib/python3.10/dist-packages (from pandas) (2024.1)\n",
            "Requirement already satisfied: numpy>=1.21.0 in /usr/local/lib/python3.10/dist-packages (from pandas) (1.25.2)\n",
            "Requirement already satisfied: six>=1.5 in /usr/local/lib/python3.10/dist-packages (from python-dateutil>=2.8.2->pandas) (1.16.0)\n"
          ]
        }
      ]
    },
    {
      "cell_type": "code",
      "source": [
        "import requests\n",
        "import csv\n",
        "from geopy.geocoders import Nominatim\n",
        "from geopy.distance import geodesic\n",
        "\n",
        "taxonomy_search_list = [\n",
        "    'Adolescent and Children Mental Health Clinic/Center',\n",
        "    'Center',\n",
        "    'Child & Adolescent Psychiatric/Mental Health Clinical Nurse Spe Child & Family Psychiatric/Mental Health Clinical Nurse Specialist',\n",
        "    'Child & Adolescent Psychiatric/Mental Health Registered Nurse Behavioral Neurology & Neuropsychiatry Physician',\n",
        "    'Child & Adolescent Psychiatry Physician',\n",
        "    'Children\\'s Hospital',\n",
        "    'Clinic',\n",
        "    'Clinic/Center',\n",
        "    'Clinical Child & Adolescent Psychologist',\n",
        "    'Clinical Neuropsychologist',\n",
        "    'Clinical Psychologist',\n",
        "    'Cognitive & Behavioral Psychologist',\n",
        "    'Developmental',\n",
        "    'Diagnostic Neuroimaging (Psychiatry & Neurology) Physician',\n",
        "    'Family Care',\n",
        "    'Family Medicine',\n",
        "    'Family Psychologist',\n",
        "    'General Practice',\n",
        "    'Health Psychologist',\n",
        "    'Health Service Psychologist',\n",
        "    'Intellectual & Developmental Disabilities Psychologist',\n",
        "    'Mental Health',\n",
        "    'Neurology with Special Qualifications in Child Neurology Physici',\n",
        "    'Pediatrics',\n",
        "    'Prescribing (Medical) Psychologist',\n",
        "    'Primary Care',\n",
        "    'Psychiatry Physician',\n",
        "    'Psychoanalysis Psychologist',\n",
        "    'Psychologist',\n",
        "    'School Psychologist'\n",
        "]\n",
        "\n",
        "VALID_STATE_LIST = [\n",
        "    'AA','AE','AK','AL','AP','AR','AS','AZ',\n",
        "    'CA','CO','CT','DC','DE','FL','FM','GA',\n",
        "    'GU','HI','IA','ID','IL','IN','KS','KY',\n",
        "    'LA','MA','MD','ME','MH','MI','MN','MO',\n",
        "    'MP','MS','MT','NC','ND','NE','NH','NJ',\n",
        "    'NM','NV','NY','OH','OK','OR','PA','PR',\n",
        "    'RI','SC','SD','TN','TX','UT','VA','VI',\n",
        "    'VT','WA','WI','WV','WY'\n",
        "]\n",
        "\n",
        "RADIUS = 100\n",
        "\n",
        "\n",
        "def collect_leads(zip_code):\n",
        "    all_leads = []  # List to store all leads\n",
        "    invalid_taxonomies = []  # List to store taxonomy descriptions without valid leads\n",
        "\n",
        "    # Load and accumulate leads for all taxonomy descriptions\n",
        "    for taxonomy_desc in taxonomy_search_list:\n",
        "        providers = search_providers_by_zip(zip_code, taxonomy_desc)\n",
        "        if providers:\n",
        "            for provider in providers:\n",
        "                # Safely fetch provider details\n",
        "                basic_info = provider.get('basic', {})\n",
        "                addresses = provider.get('addresses', [{}])\n",
        "                taxonomies = provider.get('taxonomies', [])\n",
        "\n",
        "                # Safely retrieve first address details\n",
        "                first_address = addresses[0] if addresses else {}\n",
        "\n",
        "                # Safely retrieve taxonomy descriptions\n",
        "                taxonomy_descs = [taxonomy.get('desc', '') for taxonomy in taxonomies if taxonomy.get('desc') is not None]\n",
        "\n",
        "                lead = {\n",
        "                    'Org Name': basic_info.get('organization_name', ''),\n",
        "                    'NPI': provider.get('number', ''),\n",
        "                    'Address': first_address.get('address_1', ''),\n",
        "                    'City': first_address.get('city', ''),\n",
        "                    'State': first_address.get('state', ''),\n",
        "                    'Zip': first_address.get('postal_code', ''),\n",
        "                    'Phone': first_address.get('telephone_number', ''),\n",
        "                    'Taxonomy Codes': ', '.join([taxonomy.get('code', '') for taxonomy in taxonomies if taxonomy.get('code')]),\n",
        "                    'Taxonomy Description': ', '.join(taxonomy_descs)\n",
        "                }\n",
        "\n",
        "                all_leads.append(lead)  # Append lead to all_leads list\n",
        "        else:\n",
        "            invalid_taxonomies.append(taxonomy_desc)\n",
        "\n",
        "    # Write leads to CSV\n",
        "    if all_leads:\n",
        "        with open('Leads.csv', 'w', newline='', encoding='utf-8') as csvfile:\n",
        "            fieldnames = ['Org Name', 'NPI', 'Address', 'City', 'State', 'Zip', 'Phone', 'Taxonomy Codes', 'Taxonomy Description']\n",
        "            writer = csv.DictWriter(csvfile, fieldnames=fieldnames)\n",
        "            writer.writeheader()\n",
        "            writer.writerows(all_leads)\n",
        "            print(f\"Added {len(all_leads)} leads to Leads.csv\")\n",
        "    else:\n",
        "        print(\"No leads found for any taxonomy description.\")\n",
        "\n",
        "    # Print or further process invalid taxonomy descriptions\n",
        "    if invalid_taxonomies:\n",
        "        print(\"\\nTaxonomy descriptions without valid leads:\")\n",
        "        for desc in invalid_taxonomies:\n",
        "            print(desc)\n",
        "        print(\"\\nPlease check these for proper spelling/classification and try again. Note that word order, abbreviations, and/or capitalizations may play a factor.\")\n",
        "\n",
        "\n",
        "\n",
        "def search_providers_by_zip(zip_code, taxonomy_desc):\n",
        "    base_url = 'https://npiregistry.cms.hhs.gov/api/'\n",
        "    url = f'{base_url}?state={state}&limit=200&taxonomy_description={taxonomy_desc}&version=2.1'\n",
        "    try:\n",
        "        response = requests.get(url)\n",
        "        if response.status_code == 200:\n",
        "            data = response.json()\n",
        "            results = data.get('results', [])\n",
        "            return results\n",
        "        else:\n",
        "            print(f'Error fetching data for {taxonomy_desc}. Status code: {response.status_code}')\n",
        "            return None\n",
        "    except requests.exceptions.RequestException as e:\n",
        "        print(f'Error fetching data for {taxonomy_desc}: {str(e)}')\n",
        "        return None\n",
        "\n",
        "\n",
        "def is_within_radius(origin_zip_code, to_zip_code):\n",
        "    geolocator = Nominatim(user_agent=\"zipcode_distance_calculator\")\n",
        "\n",
        "    # Isolate to the first 5 digits of the zip code\n",
        "    origin_zip_code = origin_zip_code[:5]\n",
        "    to_zip_code = to_zip_code[:5]\n",
        "\n",
        "    origin = geolocator.geocode(f\"{origin_zip_code}, USA\")\n",
        "    destination = geolocator.geocode(f\"{to_zip_code}, USA\")\n",
        "\n",
        "    if not origin:\n",
        "        raise ValueError(f\"Cannot find location for zip code {origin_zip_code}\")\n",
        "    if not destination:\n",
        "        raise ValueError(f\"Cannot find location for zip code {to_zip_code}\")\n",
        "\n",
        "    distance = geodesic((origin.latitude, origin.longitude), (destination.latitude, destination.longitude)).miles\n",
        "    print(\"Distance to \", to_zip_code,\":\", distance)\n",
        "    return distance <= RADIUS\n",
        "\n",
        "\n",
        "if __name__ == \"__main__\":\n",
        "    zip_code = input(\"Enter your zip code: \")\n",
        "    state = input(\"Enter your state abbreviation: \")\n",
        "    while state not in VALID_STATE_LIST:\n",
        "      state = input(\"Invalid entry. Please enter your two-character state abbreviation in all caps: \")\n",
        "    print(f\"Searching for providers within {RADIUS} miles of {zip_code}\")\n",
        "    collect_leads(zip_code)\n",
        "    print(\"Search completed\")\n"
      ],
      "metadata": {
        "colab": {
          "base_uri": "https://localhost:8080/"
        },
        "id": "YLwO65Dq-jzo",
        "outputId": "a63b2011-8030-4260-cef3-0ced22d98751"
      },
      "execution_count": 4,
      "outputs": [
        {
          "output_type": "stream",
          "name": "stdout",
          "text": [
            "Enter your zip code: 98144\n",
            "Enter your state abbreviation: TX\n",
            "Searching for providers within 100 miles of 98144\n",
            "Added 3172 leads to Leads.csv\n",
            "\n",
            "Taxonomy descriptions without valid leads:\n",
            "Adolescent and Children Mental Health Clinic/Center\n",
            "Center\n",
            "Children's Hospital\n",
            "Clinical Psychologist\n",
            "Diagnostic Neuroimaging (Psychiatry & Neurology) Physician\n",
            "Family Care\n",
            "Family Psychologist\n",
            "Health Psychologist\n",
            "Health Service Psychologist\n",
            "Neurology with Special Qualifications in Child Neurology Physici\n",
            "Prescribing (Medical) Psychologist\n",
            "Psychiatry Physician\n",
            "Psychoanalysis Psychologist\n",
            "School Psychologist\n",
            "\n",
            "Please check these for proper spelling/classification and try again. Note that word order, abbreviations, and/or capitalizations may play a factor.\n",
            "Search completed\n"
          ]
        }
      ]
    }
  ]
}